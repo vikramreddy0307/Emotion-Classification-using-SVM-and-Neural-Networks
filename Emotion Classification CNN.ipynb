{
 "cells": [
  {
   "cell_type": "code",
   "execution_count": 48,
   "metadata": {},
   "outputs": [],
   "source": [
    "\n",
    "#importing Libraries\n",
    "import os\n",
    "import os.path\n",
    "import numpy as np\n",
    "import tensorflow\n",
    "import pandas as pd\n",
    "from keras.models import Sequential\n",
    "from tensorflow.keras.layers import BatchNormalization\n",
    "from keras.layers.convolutional import Conv2D\n",
    "from keras.layers.convolutional import MaxPooling2D\n",
    "from keras.layers.core import Activation\n",
    "from keras.layers.core import Flatten\n",
    "from keras.layers.core import Dropout\n",
    "from keras.layers.core import Dense\n",
    "from keras.preprocessing.image import ImageDataGenerator\n",
    "from tensorflow.keras.optimizers import Adam\n",
    "from keras.preprocessing.image import img_to_array\n",
    "from sklearn.preprocessing import MultiLabelBinarizer\n",
    "from sklearn.model_selection import train_test_split\n",
    "import matplotlib.pyplot as plt\n"
   ]
  },
  {
   "cell_type": "code",
   "execution_count": null,
   "metadata": {},
   "outputs": [],
   "source": [
    "#loading Lable Files"
   ]
  },
  {
   "cell_type": "code",
   "execution_count": 9,
   "metadata": {
    "scrolled": true
   },
   "outputs": [],
   "source": [
    "\n",
    "files=[]\n",
    "y=[]\n",
    "file=[]\n",
    "for dirpath, dirnames, filenames in os.walk(r'D:\\bk\\vikram_\\Projects\\Facial_emotions\\Emotion'):\n",
    "    #for i in range(0,len(filenames)):\n",
    "    for filename in [f for f in filenames]:\n",
    "        file.append(''.join(list(filename)[:8]))\n",
    "\n",
    "        y.append(os.path.join(dirpath,filename))\n",
    "    if y!=[]:\n",
    "        files.append(y)\n",
    "    y=[]"
   ]
  },
  {
   "cell_type": "code",
   "execution_count": null,
   "metadata": {},
   "outputs": [],
   "source": [
    "#Loading Image Files"
   ]
  },
  {
   "cell_type": "code",
   "execution_count": 10,
   "metadata": {
    "scrolled": true
   },
   "outputs": [],
   "source": [
    "import os\n",
    "import os.path\n",
    "images=[]\n",
    "x=[]\n",
    "file2=[]\n",
    "for dirpath, dirnames, filenames in os.walk(r'D:\\bk\\vikram_\\Projects\\Facial_emotions\\cohn-kanade-images'):\n",
    "\n",
    "    for filename in [f for f in filenames[len(filenames)//2:]]:\n",
    "        \n",
    "        if ((filename!=\".DS_Store\") and (''.join(list(filename)[:8]) in file)):\n",
    "             \n",
    "            #file2.append(filename)\n",
    "                x.append(os.path.join(dirpath, filename))\n",
    "    if (x!=[]):\n",
    "        images.append(x)\n",
    "    x=[]"
   ]
  },
  {
   "cell_type": "code",
   "execution_count": null,
   "metadata": {},
   "outputs": [],
   "source": [
    "#loading frontal face Images detected by CV2"
   ]
  },
  {
   "cell_type": "code",
   "execution_count": 17,
   "metadata": {},
   "outputs": [],
   "source": [
    "images_files=[]\n",
    "label_files=[]\n",
    "import cv2\n",
    "import dlib\n",
    "detector = dlib.get_frontal_face_detector()\n",
    "def rect_to_bb(rect):\n",
    "    # take a bounding predicted by dlib and convert it\n",
    "    # to the format (x, y, w, h) as we would normally do\n",
    "    # with OpenCV\n",
    "    x = rect.left()\n",
    "    y = rect.top()\n",
    "    w = rect.right() - x\n",
    "    h = rect.bottom() - y\n",
    "    # return a tuple of (x, y, w, h)\n",
    "    return (x, y, w, h)\n",
    "for i in range(0,len(images)):\n",
    "    for j in images[i]:\n",
    "        img_file = cv2.imread(j)\n",
    "        rects = detector(img_file, 1)\n",
    "        for (k, rect) in enumerate(rects):\n",
    "            (x, y, w, h) = rect_to_bb(rect)\n",
    "            img_file=img_file[y:y+h, x:x+w]\n",
    "        if 0 not in img_file.shape:\n",
    "            img_file = cv2.resize(img_file, (60, 60))\n",
    "            img_file = img_to_array(img_file)\n",
    "            img_file = (img_file) / 255.0\n",
    "    #         print(j)\n",
    "            images_files.append(img_file)\n",
    "            label_files.append(str.strip(open(files[i][0], 'r').read().replace('\\n','')).split())"
   ]
  },
  {
   "cell_type": "code",
   "execution_count": 19,
   "metadata": {},
   "outputs": [
    {
     "data": {
      "text/plain": [
       "3017"
      ]
     },
     "execution_count": 19,
     "metadata": {},
     "output_type": "execute_result"
    }
   ],
   "source": [
    "len(label_files)"
   ]
  },
  {
   "cell_type": "code",
   "execution_count": null,
   "metadata": {},
   "outputs": [],
   "source": [
    "#Processing the outputs to get to the required shape"
   ]
  },
  {
   "cell_type": "code",
   "execution_count": 20,
   "metadata": {},
   "outputs": [],
   "source": [
    "#round(float(label_files[1][1]))\n",
    "for i in range(0,len(label_files)):\n",
    "        for j in range(0,len(label_files[i])):\n",
    "            label_files[i][j]=round(float(label_files[i][j]))\n",
    "label_files=[[int(s) for s in sublist] for sublist in label_files]\n",
    "label_files=[item[0] for item in label_files]"
   ]
  },
  {
   "cell_type": "code",
   "execution_count": 22,
   "metadata": {},
   "outputs": [],
   "source": [
    "#One hot encoding of the labels"
   ]
  },
  {
   "cell_type": "code",
   "execution_count": 37,
   "metadata": {
    "scrolled": true
   },
   "outputs": [],
   "source": [
    "\n",
    "ind=pd.get_dummies(label_files,sparse=True)\n",
    "labels=pd.get_dummies(label_files,sparse=True)"
   ]
  },
  {
   "cell_type": "code",
   "execution_count": 36,
   "metadata": {},
   "outputs": [
    {
     "data": {
      "text/plain": [
       "{1, 2, 3, 4, 5, 6, 7}"
      ]
     },
     "execution_count": 36,
     "metadata": {},
     "output_type": "execute_result"
    }
   ],
   "source": [
    "set(label_files)"
   ]
  },
  {
   "cell_type": "code",
   "execution_count": 38,
   "metadata": {},
   "outputs": [],
   "source": [
    "#Converting the Inputs and outputs in to Network acceptable format\n",
    "images_files = np.array(images_files, dtype=\"float\")\n",
    "\n",
    "labels = np.array(labels)"
   ]
  },
  {
   "cell_type": "code",
   "execution_count": null,
   "metadata": {},
   "outputs": [],
   "source": [
    "#Splitting the data in to test and train"
   ]
  },
  {
   "cell_type": "code",
   "execution_count": 39,
   "metadata": {},
   "outputs": [],
   "source": [
    "(trainX, testX, trainY, testY) = train_test_split(images_files,\n",
    "labels, test_size=0.2, random_state=42)\n"
   ]
  },
  {
   "cell_type": "code",
   "execution_count": null,
   "metadata": {},
   "outputs": [],
   "source": [
    "#initialze the network to Glorot/Xavier"
   ]
  },
  {
   "cell_type": "code",
   "execution_count": 50,
   "metadata": {},
   "outputs": [],
   "source": [
    "initializer = tensorflow.keras.initializers.GlorotUniform()"
   ]
  },
  {
   "cell_type": "code",
   "execution_count": 66,
   "metadata": {},
   "outputs": [],
   "source": [
    "model = Sequential()\n",
    "model.add(Conv2D(32, (3, 3), padding=\"same\",input_shape=(60, 60, 3),kernel_initializer=initializer))\n",
    "model.add(Activation(\"relu\"))\n",
    "model.add(BatchNormalization(axis=-1))\n",
    "model.add(MaxPooling2D(pool_size=(3, 3)))\n",
    "\n",
    "model.add(Flatten())\n",
    "model.add(Dense(64,kernel_initializer=initializer))\n",
    " \n",
    "# use a *softmax* activation for single-label classification\n",
    "# and *sigmoid* activation for multi-label classification\n",
    "#model.add(Flatten())\n",
    "model.add(Dense(7,kernel_initializer=initializer))\n",
    "model.add(Activation(\"softmax\"))\n",
    "model.compile(loss=\"categorical_crossentropy\", optimizer='adam')"
   ]
  },
  {
   "cell_type": "code",
   "execution_count": 67,
   "metadata": {},
   "outputs": [
    {
     "name": "stdout",
     "output_type": "stream",
     "text": [
      "Epoch 1/10\n",
      "24/24 [==============================] - 2s 53ms/step - loss: 4.8293 - val_loss: 1.6585\n",
      "Epoch 2/10\n",
      "24/24 [==============================] - 1s 47ms/step - loss: 0.7601 - val_loss: 1.3020\n",
      "Epoch 3/10\n",
      "24/24 [==============================] - 1s 50ms/step - loss: 0.3154 - val_loss: 1.1488\n",
      "Epoch 4/10\n",
      "24/24 [==============================] - 1s 52ms/step - loss: 0.1606 - val_loss: 1.1665\n",
      "Epoch 5/10\n",
      "24/24 [==============================] - 2s 82ms/step - loss: 0.0974 - val_loss: 1.1299\n",
      "Epoch 6/10\n",
      "24/24 [==============================] - 2s 77ms/step - loss: 0.0751 - val_loss: 0.8771\n",
      "Epoch 7/10\n",
      "24/24 [==============================] - 2s 81ms/step - loss: 0.0661 - val_loss: 0.9308\n",
      "Epoch 8/10\n",
      "24/24 [==============================] - 2s 79ms/step - loss: 0.0546 - val_loss: 0.7693\n",
      "Epoch 9/10\n",
      "24/24 [==============================] - 2s 81ms/step - loss: 0.0800 - val_loss: 0.5437\n",
      "Epoch 10/10\n",
      "24/24 [==============================] - 2s 85ms/step - loss: 0.0234 - val_loss: 0.4467\n"
     ]
    }
   ],
   "source": [
    "EPOCHS = 10\n",
    "\n",
    "history=model.fit(\n",
    "\ttrainX, trainY, batch_size=32,\n",
    "\tvalidation_data=(testX, testY),\n",
    "\tsteps_per_epoch=len(trainX) // 100,\n",
    "\tepochs=EPOCHS, verbose=1)"
   ]
  },
  {
   "cell_type": "code",
   "execution_count": 71,
   "metadata": {},
   "outputs": [],
   "source": [
    "model.save('emotions_model.h5')"
   ]
  },
  {
   "cell_type": "code",
   "execution_count": null,
   "metadata": {},
   "outputs": [],
   "source": [
    "#Plotting the train and test loss graphs"
   ]
  },
  {
   "cell_type": "code",
   "execution_count": 68,
   "metadata": {},
   "outputs": [
    {
     "data": {
      "image/png": "[encoded data removed]",
      "text/plain": [
       "<Figure size 432x288 with 1 Axes>"
      ]
     },
     "metadata": {
      "needs_background": "light"
     },
     "output_type": "display_data"
    }
   ],
   "source": [
    "from matplotlib import pyplot as plt\n",
    "# history = model1.fit(train_x, train_y,validation_split = 0.1, epochs=50, batch_size=4)\n",
    "plt.plot(history.history['loss'])\n",
    "plt.plot(history.history['val_loss'])\n",
    "plt.title('model loss')\n",
    "plt.ylabel('loss')\n",
    "plt.xlabel('epoch')\n",
    "plt.legend(['train', 'val'], loc='upper left')\n",
    "plt.show()"
   ]
  }
 ],
 "metadata": {
  "kernelspec": {
   "display_name": "Python 3",
   "language": "python",
   "name": "python3"
  },
  "language_info": {
   "codemirror_mode": {
    "name": "ipython",
    "version": 3
   },
   "file_extension": ".py",
   "mimetype": "text/x-python",
   "name": "python",
   "nbconvert_exporter": "python",
   "pygments_lexer": "ipython3",
   "version": "3.6.8"
  }
 },
 "nbformat": 4,
 "nbformat_minor": 2
}
